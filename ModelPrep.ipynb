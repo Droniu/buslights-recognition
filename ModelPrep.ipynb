{
 "cells": [
  {
   "cell_type": "code",
   "execution_count": 1,
   "id": "0f7fad4f",
   "metadata": {},
   "outputs": [],
   "source": [
    "import cv2\n",
    "import os\n",
    "import time\n",
    "import tensorflow\n",
    "import numpy as np\n",
    "from matplotlib import pyplot as plt\n",
    "\n",
    "correct = cv2.VideoCapture(os.path.join('widthx08_square','correct_feed.mp4'))\n",
    "incorrect = cv2.VideoCapture(os.path.join('widthx08_square','incorrect_feed.mp4'))\n",
    "size = correct.get(cv2.CAP_PROP_FRAME_COUNT) + incorrect.get(cv2.CAP_PROP_FRAME_COUNT)\n",
    "feed = np.empty((int(size), 180, 180, 3), dtype = 'uint8')\n",
    "label = np.empty((int(size)), dtype = 'uint8')\n",
    "\n",
    "correct_test = cv2.VideoCapture(os.path.join('widthx08_square','correct_test_1.mp4'))\n",
    "incorrect_test = cv2.VideoCapture(os.path.join('widthx08_square','incorrect_test_1.mp4'))\n",
    "size_test = correct_test.get(cv2.CAP_PROP_FRAME_COUNT) + incorrect_test.get(cv2.CAP_PROP_FRAME_COUNT)\n",
    "test = np.empty((int(size_test), 180, 180, 3), dtype = 'uint8')\n",
    "label_test = np.empty((int(size_test)), dtype = 'uint8')"
   ]
  },
  {
   "cell_type": "code",
   "execution_count": 2,
   "id": "0815d9c2",
   "metadata": {},
   "outputs": [],
   "source": [
    "for i in range(int(correct.get(cv2.CAP_PROP_FRAME_COUNT))):\n",
    "    ret, frame = correct.read()\n",
    "    feed[i] = frame\n",
    "    label[i] = 1\n",
    "        \n",
    "j = int(correct.get(cv2.CAP_PROP_FRAME_COUNT))\n",
    "for i in range(int(incorrect.get(cv2.CAP_PROP_FRAME_COUNT))):\n",
    "    ret, frame = incorrect.read()\n",
    "    feed[i + j] = frame\n",
    "    label[i + j] = 0\n",
    "\n",
    "#for i in range(int(size)):\n",
    "#    cv2.imshow('feed', feed[i])\n",
    "#    if cv2.waitKey(10) & 0xFF == ord('q'):\n",
    "#        break\n",
    "              \n",
    "correct.release()\n",
    "incorrect.release()\n",
    "cv2.destroyAllWindows()\n",
    "images = np.copy(feed)"
   ]
  },
  {
   "cell_type": "code",
   "execution_count": 3,
   "id": "ca4a8f36",
   "metadata": {},
   "outputs": [],
   "source": [
    "for i in range(int(correct_test.get(cv2.CAP_PROP_FRAME_COUNT))):\n",
    "    ret, frame = correct_test.read()\n",
    "    test[i] = frame\n",
    "    label_test[i] = 1\n",
    "        \n",
    "j = int(correct_test.get(cv2.CAP_PROP_FRAME_COUNT))\n",
    "for i in range(int(incorrect_test.get(cv2.CAP_PROP_FRAME_COUNT))):\n",
    "    ret, frame = incorrect_test.read()\n",
    "    test[i + j] = frame\n",
    "    label_test[i + j] = 0\n",
    "\n",
    "#for i in range(int(size_test)):\n",
    "#    cv2.imshow('test', test[i])\n",
    "#    if cv2.waitKey(10) & 0xFF == ord('q'):\n",
    "#        break\n",
    "              \n",
    "correct_test.release()\n",
    "incorrect_test.release()\n",
    "cv2.destroyAllWindows()\n",
    "images_test = np.copy(test)"
   ]
  },
  {
   "cell_type": "code",
   "execution_count": 4,
   "id": "140c2bcb",
   "metadata": {},
   "outputs": [],
   "source": [
    "feed = feed.reshape((-1, 97200)).astype('float32')\n",
    "feed = (feed / 255)\n",
    "\n",
    "test = test.reshape((-1, 97200)).astype('float32')\n",
    "test = (test / 255)"
   ]
  },
  {
   "cell_type": "code",
   "execution_count": 5,
   "id": "f5bdcfdb",
   "metadata": {},
   "outputs": [
    {
     "name": "stdout",
     "output_type": "stream",
     "text": [
      "Epoch 1/2\n",
      "61/61 [==============================] - 6s 93ms/step - loss: 10.8853 - accuracy: 0.8125\n",
      "Epoch 2/2\n",
      "61/61 [==============================] - 6s 98ms/step - loss: 3.9062e-04 - accuracy: 1.0000\n",
      "Model: \"sequential\"\n",
      "_________________________________________________________________\n",
      " Layer (type)                Output Shape              Param #   \n",
      "=================================================================\n",
      " dense (Dense)               (None, 512)               49766912  \n",
      "                                                                 \n",
      " dense_1 (Dense)             (None, 2)                 1026      \n",
      "                                                                 \n",
      "=================================================================\n",
      "Total params: 49,767,938\n",
      "Trainable params: 49,767,938\n",
      "Non-trainable params: 0\n",
      "_________________________________________________________________\n",
      "INFO:tensorflow:Assets written to: mlp.model\\assets\n"
     ]
    }
   ],
   "source": [
    "from tensorflow.keras.models import Sequential\n",
    "from tensorflow.keras.layers import Dense\n",
    "from tensorflow.keras.utils import to_categorical\n",
    "\n",
    "model = Sequential([\n",
    "   Dense(512, activation='relu', input_shape=(97200,)),\n",
    "   #Dense(512, activation='relu'),\n",
    "   #Dense(512, activation='relu'),\n",
    "   Dense(2, activation='softmax')\n",
    "])\n",
    "\n",
    "model.compile(\n",
    "   optimizer='adam',\n",
    "   loss='categorical_crossentropy',\n",
    "   metrics=['accuracy']\n",
    ")\n",
    "\n",
    "model.fit(\n",
    "   x=feed,\n",
    "   y=to_categorical(label),\n",
    "   epochs=2\n",
    ")\n",
    "\n",
    "model.summary()\n",
    "model.save('mlp-v2.model')"
   ]
  },
  {
   "cell_type": "code",
   "execution_count": 6,
   "id": "6e483878",
   "metadata": {},
   "outputs": [
    {
     "name": "stdout",
     "output_type": "stream",
     "text": [
      "22/22 [==============================] - 1s 22ms/step - loss: 2.1870e-07 - accuracy: 1.0000\n",
      "[2.1869705335575418e-07, 1.0]\n"
     ]
    }
   ],
   "source": [
    "eval = model.evaluate(\n",
    "   test,\n",
    "   to_categorical(label_test)\n",
    ")\n",
    "print(eval)"
   ]
  },
  {
   "cell_type": "code",
   "execution_count": 7,
   "id": "8619a3a1",
   "metadata": {},
   "outputs": [
    {
     "name": "stdout",
     "output_type": "stream",
     "text": [
      "[[0. 1.]]\n",
      "correct\n",
      "1\n",
      "[[0. 1.]]\n",
      "correct\n",
      "1\n",
      "[[0. 1.]]\n",
      "correct\n",
      "1\n",
      "[[0. 1.]]\n",
      "correct\n",
      "1\n",
      "[[0. 1.]]\n",
      "correct\n",
      "1\n",
      "[[1. 0.]]\n",
      "bad\n",
      "0\n",
      "[[1. 0.]]\n",
      "bad\n",
      "0\n"
     ]
    }
   ],
   "source": [
    "def prepare(frame): #flattened\n",
    "    return frame.reshape((-1, 97200))\n",
    "\n",
    "for i in range(int(size_test)):\n",
    "    if i % 100 == 0:\n",
    "        prediction = model.predict(prepare(images_test[i])) \n",
    "        print(prediction)\n",
    "        if prediction[0][0] < prediction[0][1]:\n",
    "            cv2.imshow('correct', images_test[i])\n",
    "            print('correct')\n",
    "            print(label_test[i])\n",
    "            if cv2.waitKey(10) & 0xFF == ord('q'):\n",
    "                break\n",
    "        else:\n",
    "            cv2.imshow('bad', images_test[i])\n",
    "            print('bad')\n",
    "            print(label_test[i])\n",
    "            if cv2.waitKey(10) & 0xFF == ord('q'):\n",
    "                break\n",
    "        time.sleep(5)    \n",
    "        \n",
    "cv2.destroyAllWindows()            \n",
    "correct_test.release()\n",
    "incorrect_test.release()"
   ]
  },
  {
   "cell_type": "code",
   "execution_count": null,
   "id": "3346980c",
   "metadata": {},
   "outputs": [],
   "source": []
  }
 ],
 "metadata": {
  "kernelspec": {
   "display_name": "Python 3 (ipykernel)",
   "language": "python",
   "name": "python3"
  },
  "language_info": {
   "codemirror_mode": {
    "name": "ipython",
    "version": 3
   },
   "file_extension": ".py",
   "mimetype": "text/x-python",
   "name": "python",
   "nbconvert_exporter": "python",
   "pygments_lexer": "ipython3",
   "version": "3.9.7"
  }
 },
 "nbformat": 4,
 "nbformat_minor": 5
}
