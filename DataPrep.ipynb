{
 "cells": [
  {
   "cell_type": "code",
   "execution_count": null,
   "id": "d05d042f",
   "metadata": {},
   "outputs": [],
   "source": [
    "import cv2\n",
    "import os\n",
    "import numpy as np\n",
    "from matplotlib import pyplot as plt"
   ]
  },
  {
   "cell_type": "code",
   "execution_count": null,
   "id": "de654e50",
   "metadata": {},
   "outputs": [],
   "source": [
    "cap = cv2.VideoCapture(os.path.join('incorrect_test_1.m4v') )\n",
    "fps = cap.get(cv2.CAP_PROP_FPS)\n",
    "video_writer = cv2.VideoWriter(os.path.join('widthx08_square','incorrect_test_1.m4v'), cv2.VideoWriter_fourcc('m','p','4','v'), fps, (180, 180), isColor=True) \n",
    " \n",
    "def point_trans_contrast_dynamic(image, m, e):\n",
    "    image = image.astype(np.float32) / 255\n",
    "    trans_image = 1/(1+(m/image)**e)\n",
    "    norm_image = cv2.normalize(trans_image, None, alpha = 0, beta = 255, norm_type = cv2.NORM_MINMAX, dtype = cv2.CV_32F)\n",
    "    trans_image = norm_image.astype(np.uint8)\n",
    "    return trans_image\n",
    "\n",
    "def point_trans_gamma(image, const, gamma):\n",
    "    image = image.astype(np.float32) / 255\n",
    "    trans_image = (image**gamma)*const\n",
    "    norm_image = cv2.normalize(trans_image, None, alpha = 0, beta = 255, norm_type = cv2.NORM_MINMAX, dtype = cv2.CV_32F)\n",
    "    trans_image = norm_image.astype(np.uint8)\n",
    "    return trans_image\n",
    "\n",
    "def crop(image ,x_a, x_b, y_a, y_b):\n",
    "    image_croped = image[x_a:x_b, y_a:y_b] \n",
    "    return image_croped"
   ]
  },
  {
   "cell_type": "code",
   "execution_count": null,
   "id": "9b1048ef",
   "metadata": {},
   "outputs": [],
   "source": [
    "for frame in range(int(cap.get(cv2.CAP_PROP_FRAME_COUNT))):\n",
    "    ret, frame = cap.read()\n",
    "    \n",
    "    frame = cv2.resize(frame, (256, 180))                #resolition and skale width * 0.8    \n",
    "    frame = crop(frame, 0, 180, 38, 218)                 #cut to square\n",
    "    #frame = cv2.cvtColor(frame,cv2.COLOR_BGR2GRAY)      #grey\n",
    "    #frame = point_trans_gamma(frame, 1, 3)              #darker\n",
    "    #frame = point_trans_contrast_dynamic(frame, 0.5, 3) #dark more dark, bright more bright\n",
    "                                                         #cuting range filters \n",
    "    cv2.imshow('Volvo', frame)\n",
    "    video_writer.write(frame)\n",
    "    \n",
    "    if cv2.waitKey(10) & 0xFF == ord('q'):\n",
    "        break\n",
    "        \n",
    "cap.release()\n",
    "cv2.destroyAllWindows()\n",
    "video_writer.release()"
   ]
  },
  {
   "cell_type": "code",
   "execution_count": null,
   "id": "537abc15",
   "metadata": {},
   "outputs": [],
   "source": []
  },
  {
   "cell_type": "code",
   "execution_count": null,
   "id": "5e69e579",
   "metadata": {},
   "outputs": [],
   "source": []
  },
  {
   "cell_type": "code",
   "execution_count": null,
   "id": "34290366",
   "metadata": {},
   "outputs": [],
   "source": []
  },
  {
   "cell_type": "code",
   "execution_count": null,
   "id": "eb7576db",
   "metadata": {},
   "outputs": [],
   "source": [
    "\n",
    "    "
   ]
  },
  {
   "cell_type": "code",
   "execution_count": null,
   "id": "29d94361",
   "metadata": {},
   "outputs": [],
   "source": []
  },
  {
   "cell_type": "code",
   "execution_count": null,
   "id": "8833accd",
   "metadata": {},
   "outputs": [],
   "source": []
  }
 ],
 "metadata": {
  "kernelspec": {
   "display_name": "Python 3 (ipykernel)",
   "language": "python",
   "name": "python3"
  },
  "language_info": {
   "codemirror_mode": {
    "name": "ipython",
    "version": 3
   },
   "file_extension": ".py",
   "mimetype": "text/x-python",
   "name": "python",
   "nbconvert_exporter": "python",
   "pygments_lexer": "ipython3",
   "version": "3.9.7"
  }
 },
 "nbformat": 4,
 "nbformat_minor": 5
}
